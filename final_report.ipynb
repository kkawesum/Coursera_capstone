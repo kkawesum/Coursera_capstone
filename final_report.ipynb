{
 "cells": [
  {
   "cell_type": "markdown",
   "metadata": {
    "collapsed": true
   },
   "source": [
    "# My firm is looking to set up a gaming arcade in USA. I want to find the best location for starting the arcade"
   ]
  },
  {
   "cell_type": "markdown",
   "metadata": {},
   "source": [
    "## Final Report  - By Kislay Srivastava "
   ]
  },
  {
   "cell_type": "markdown",
   "metadata": {},
   "source": [
    "## Business Requirements\n",
    "\n",
    "For setting up a game arcade,following points should be remembered\n",
    "\n",
    "1. Firstly, you should know why to start off with a place in particular?\n",
    "2. If a place is chosen, you must have a very clear understanding of who would your potential customers be?\n",
    "3. You need to have a clear understanding of the customers spending patterns in that locality etc.\n",
    "4. Last but not the least, you need to take care of the legal aspects involved in that locality.\n",
    "\n",
    "## Data and Source of Data\n",
    "\n",
    "As defined by the United States Census Bureau, an \"incorporated place\" includes a variety of designations, including city, town, village, borough, and municipality. A few exceptional census-designated places (CDPs) are also included in the Census Bureau's listing of incorporated places. Consolidated city-counties represent a distinct type of government that includes the entire population of a county, or county equivalent. Some consolidated city-counties, however, include multiple incorporated places.\n",
    "\n",
    "About the State income levels: State income levels and income data for the United States as a whole are included for comparison. Note that county-equivalents in Louisiana are called \"parishes\" and in Alaska are called in \"boroughs,\" and also that in Alaska census areas in the Unorganized Borough are county-equivalents. For states where independent cities are county-equivalents, the word \"city\" is included to identify the independent cities and to differentiate them from counties with identical names; the counties with the identical names have the word \"county\" following them. The word \"county\" is included in the names of counties that have names identical to the names of U.S. states or cities to differentiate them.\n",
    "\n"
   ]
  },
  {
   "cell_type": "markdown",
   "metadata": {},
   "source": [
    "# Methodology\n",
    "\n",
    "In order to do the analysis and suggest the best location, following are the steps we have to follow :\n",
    "\n",
    "1. The Wikipedia page (https://en.wikipedia.org/wiki/List_of_United_States_cities_by_population) was scraped using the BeautifulSoup library to build a pandas dataframe listing the cities, states, coordinates, area and population density. The dataframe was cleaned and processed appropriately.\n",
    "2. The Wikipedia page (https://en.wikipedia.org/wiki/List_of_United_States_counties_by_per_capita_income) was scraped using the BeautifulSoup library to build a pandas dataframe listing the cities, states and percapita income. The dataframe was cleaned and processed appropriately.\n",
    "3. The Foursquare API is then used to get the venues in each city of United States\n",
    "4. Based on the categories of each venue as decided by the CEO, we have assigned weights to each of them and got the city that has the maximum weight.\n",
    "5. Once the city is finalized, we again use Four Square API to get the venues within that city and assign weights to each category.\n",
    "6. We will now use K means to cluster the venues based on the category and get the coordinates of the cluster that has maximum weight which is also our preferred location to setup a gaming arcade.\n",
    "\n",
    "# Result :\n",
    "\n",
    "Based on the analysis we have done, the following is the result we have got:\n",
    "\n",
    "Plot to show the location of final arcade that we are suggesting:\n",
    "\n"
   ]
  },
  {
   "cell_type": "markdown",
   "metadata": {},
   "source": [
    "# Discusions and further Improvements\n",
    "\n",
    "In the Four Square API, we have queried the Venues of a locality by specifying the LIMIT and Radius of our choice. We have chosen less LIMIT as the number of API calls that can be done using a free account in Four Square are less. We can increase the limit for more accurate results.\n",
    "\n",
    "In the venue categories we are choosing only few out of 2000 that are available to give weights and identify the best cluster. Hence, assigning weights must be done relatively for each category and then considering more number of venue categories would actually yield better output.\n",
    "\n",
    "# Conclusions:\n",
    "\n",
    "Based on the given constraints, a gaming arcade can be installed in a place closer to the center of the circle to attract more number of diverse  customers and get huge revenue.\n",
    "\n",
    "# Resources :\n",
    "\n",
    "1. List of all the cities in United States with population density and coordinates: https://en.wikipedia.org/wiki/List_of_United_States_cities_by_population\n",
    "2. List of all the cities in United States with Per Capita Income : https://en.wikipedia.org/wiki/List_of_United_States_counties_by_per_capita_income\n",
    "3. Four Square API : https://foursquare.com"
   ]
  }
 ],
 "metadata": {
  "kernelspec": {
   "display_name": "Python 3.6",
   "language": "python",
   "name": "python3"
  },
  "language_info": {
   "codemirror_mode": {
    "name": "ipython",
    "version": 3
   },
   "file_extension": ".py",
   "mimetype": "text/x-python",
   "name": "python",
   "nbconvert_exporter": "python",
   "pygments_lexer": "ipython3",
   "version": "3.6.8"
  }
 },
 "nbformat": 4,
 "nbformat_minor": 1
}
